{
 "cells": [
  {
   "cell_type": "code",
   "execution_count": 1,
   "metadata": {},
   "outputs": [],
   "source": [
    "import bs4 as bs"
   ]
  },
  {
   "cell_type": "code",
   "execution_count": 2,
   "metadata": {},
   "outputs": [],
   "source": [
    "import urllib.request as url"
   ]
  },
  {
   "cell_type": "code",
   "execution_count": 3,
   "metadata": {},
   "outputs": [],
   "source": [
    "source = url.urlopen('https://www.yelp.ca/search?find_desc=Restaurants&find_loc=Toronto%2C+ON')"
   ]
  },
  {
   "cell_type": "code",
   "execution_count": 4,
   "metadata": {},
   "outputs": [],
   "source": [
    "page_soup = bs.BeautifulSoup(source, 'html.parser')"
   ]
  },
  {
   "cell_type": "code",
   "execution_count": 9,
   "metadata": {},
   "outputs": [],
   "source": [
    "mains = page_soup.find_all(\"div\", {\"class\": \"lemon--div__373c0__1mboc mainAttributes__373c0__1r0QA arrange-unit__373c0__o3tjT arrange-unit-fill__373c0__3Sfw1 border-color--default__373c0__3-ifU\"})"
   ]
  },
  {
   "cell_type": "code",
   "execution_count": 35,
   "metadata": {},
   "outputs": [
    {
     "name": "stdout",
     "output_type": "stream",
     "text": [
      "Rest_Name:Panera Bread\n"
     ]
    }
   ],
   "source": [
    "#Try 1 attribute first - Business Name\n",
    "\n",
    "main = mains[0]\n",
    "busname = main.find(\"a\").text\n",
    "print(\"Rest_Name:\" + busname)"
   ]
  },
  {
   "cell_type": "code",
   "execution_count": 21,
   "metadata": {},
   "outputs": [
    {
     "name": "stdout",
     "output_type": "stream",
     "text": [
      "Rest_Ratings:3 star rating\n"
     ]
    }
   ],
   "source": [
    "ratings = main.find(\"span\", {\"class\": \"lemon--span__373c0__3997G display--inline__373c0__3JqBP border-color--default__373c0__3-ifU\"}).div.get('aria-label')\n",
    "print(\"Rest_Ratings:\" + ratings)"
   ]
  },
  {
   "cell_type": "code",
   "execution_count": 23,
   "metadata": {},
   "outputs": [
    {
     "name": "stdout",
     "output_type": "stream",
     "text": [
      "Rest_Name:Panera Bread\n",
      "Rest_Name:Pai Northern Thai Kitchen\n",
      "Rest_Name:Beefing with 7\n",
      "Rest_Name:Richmond Station\n",
      "Rest_Name:Mira\n",
      "Rest_Name:Gusto 101\n",
      "Rest_Name:Uncle Ray’s Food & Liquor\n",
      "Rest_Name:KINKA IZAKAYA ORIGINAL\n",
      "Rest_Name:PŌPA\n",
      "Rest_Name:Byblos\n",
      "Rest_Name:Tinuno\n",
      "Rest_Name:Seven Lives Tacos y Mariscos\n",
      "Rest_Name:Boukan\n",
      "Rest_Name:Juicy Dumpling\n",
      "Rest_Name:Sabai Sabai Kitchen and Bar\n",
      "Rest_Name:Loch & Quay\n",
      "Rest_Name:Mabu Generation\n",
      "Rest_Name:Khao San Road\n",
      "Rest_Name:Chubby’s Jamaican Kitchen\n",
      "Rest_Name:Katsuya\n",
      "Rest_Name:Sabai Sabai Kitchen and Bar\n",
      "Rest_Name:Descendant Detroit Style Pizza\n",
      "Rest_Name:Eataly\n",
      "Rest_Name:New Orleans Seafood & Steakhouse\n",
      "Rest_Name:Adamson Barbecue\n",
      "Rest_Name:The Elm Tree Restaurant\n",
      "Rest_Name:Otto’s Bierhalle\n",
      "Rest_Name:GB Hand-pulled Noodles\n",
      "Rest_Name:Mildred’s Temple Kitchen\n",
      "Rest_Name:Chica’s Nashville Hot Chicken\n",
      "Rest_Name:Boonsik\n"
     ]
    }
   ],
   "source": [
    "#Set loop over 1 attribute\n",
    "\n",
    "for main in mains:\n",
    "    try:\n",
    "        busname = main.find(\"a\").text\n",
    "        print(\"Rest_Name:\" + busname)\n",
    "    except:\n",
    "        print(None)"
   ]
  },
  {
   "cell_type": "code",
   "execution_count": 34,
   "metadata": {},
   "outputs": [
    {
     "name": "stdout",
     "output_type": "stream",
     "text": [
      "Rest_Name:Panera Bread\n",
      "Rest_Ratings:3 star rating\n",
      "Rest_Noreviews:82\n",
      "Rest_Price:$$\n",
      "Rest_Name:Pai Northern Thai Kitchen\n",
      "Rest_Ratings:4.5 star rating\n",
      "Rest_Noreviews:2862\n",
      "Rest_Price:$$\n",
      "Rest_Name:Beefing with 7\n",
      "Rest_Ratings:4.5 star rating\n",
      "Rest_Noreviews:17\n",
      "None\n",
      "Rest_Name:Richmond Station\n",
      "Rest_Ratings:4.5 star rating\n",
      "Rest_Noreviews:764\n",
      "Rest_Price:$$$\n",
      "Rest_Name:Mira\n",
      "Rest_Ratings:4.5 star rating\n",
      "Rest_Noreviews:218\n",
      "Rest_Price:$$\n",
      "Rest_Name:Gusto 101\n",
      "Rest_Ratings:4 star rating\n",
      "Rest_Noreviews:971\n",
      "Rest_Price:$$\n",
      "Rest_Name:Uncle Ray’s Food & Liquor\n",
      "Rest_Ratings:5 star rating\n",
      "Rest_Noreviews:13\n",
      "None\n",
      "Rest_Name:KINKA IZAKAYA ORIGINAL\n",
      "Rest_Ratings:4 star rating\n",
      "Rest_Noreviews:1606\n",
      "Rest_Price:$$\n",
      "Rest_Name:PŌPA\n",
      "Rest_Ratings:4 star rating\n",
      "Rest_Noreviews:24\n",
      "Rest_Price:$$$\n",
      "Rest_Name:Byblos\n",
      "Rest_Ratings:4.5 star rating\n",
      "Rest_Noreviews:787\n",
      "Rest_Price:$$$\n",
      "Rest_Name:Tinuno\n",
      "Rest_Ratings:4 star rating\n",
      "Rest_Noreviews:554\n",
      "Rest_Price:$$\n",
      "Rest_Name:Seven Lives Tacos y Mariscos\n",
      "Rest_Ratings:4.5 star rating\n",
      "Rest_Noreviews:1300\n",
      "Rest_Price:$\n",
      "Rest_Name:Boukan\n",
      "Rest_Ratings:4.5 star rating\n",
      "Rest_Noreviews:3\n",
      "None\n",
      "Rest_Name:Juicy Dumpling\n",
      "Rest_Ratings:4 star rating\n",
      "Rest_Noreviews:472\n",
      "Rest_Price:$\n",
      "Rest_Name:Sabai Sabai Kitchen and Bar\n",
      "Rest_Ratings:4 star rating\n",
      "Rest_Noreviews:378\n",
      "Rest_Price:$$\n",
      "Rest_Name:Loch & Quay\n",
      "Rest_Ratings:4 star rating\n",
      "Rest_Noreviews:62\n",
      "Rest_Price:$$\n",
      "Rest_Name:Mabu Generation\n",
      "Rest_Ratings:4.5 star rating\n",
      "Rest_Noreviews:16\n",
      "Rest_Price:$$\n",
      "Rest_Name:Khao San Road\n",
      "Rest_Ratings:4 star rating\n",
      "Rest_Noreviews:1549\n",
      "Rest_Price:$$\n",
      "Rest_Name:Chubby’s Jamaican Kitchen\n",
      "Rest_Ratings:4 star rating\n",
      "Rest_Noreviews:243\n",
      "Rest_Price:$$\n",
      "Rest_Name:Katsuya\n",
      "Rest_Ratings:4.5 star rating\n",
      "Rest_Noreviews:403\n",
      "Rest_Price:$$\n",
      "Rest_Name:Sabai Sabai Kitchen and Bar\n",
      "Rest_Ratings:4 star rating\n",
      "Rest_Noreviews:280\n",
      "Rest_Price:$$\n",
      "Rest_Name:Descendant Detroit Style Pizza\n",
      "Rest_Ratings:4.5 star rating\n",
      "Rest_Noreviews:325\n",
      "Rest_Price:$$\n",
      "Rest_Name:Eataly\n",
      "Rest_Ratings:3.5 star rating\n",
      "Rest_Noreviews:168\n",
      "Rest_Price:$$\n",
      "Rest_Name:New Orleans Seafood & Steakhouse\n",
      "Rest_Ratings:4.5 star rating\n",
      "Rest_Noreviews:132\n",
      "Rest_Price:$$$\n",
      "Rest_Name:Adamson Barbecue\n",
      "Rest_Ratings:4.5 star rating\n",
      "Rest_Noreviews:315\n",
      "Rest_Price:$$\n",
      "Rest_Name:The Elm Tree Restaurant\n",
      "Rest_Ratings:4.5 star rating\n",
      "Rest_Noreviews:267\n",
      "Rest_Price:$$\n",
      "Rest_Name:Otto’s Bierhalle\n",
      "Rest_Ratings:4 star rating\n",
      "Rest_Noreviews:173\n",
      "Rest_Price:$$\n",
      "Rest_Name:GB Hand-pulled Noodles\n",
      "Rest_Ratings:4 star rating\n",
      "Rest_Noreviews:527\n",
      "Rest_Price:$$\n",
      "Rest_Name:Mildred’s Temple Kitchen\n",
      "Rest_Ratings:4 star rating\n",
      "Rest_Noreviews:892\n",
      "Rest_Price:$$\n",
      "Rest_Name:Chica’s Nashville Hot Chicken\n",
      "Rest_Ratings:4.5 star rating\n",
      "Rest_Noreviews:93\n",
      "Rest_Price:$$\n",
      "Rest_Name:Boonsik\n",
      "Rest_Ratings:4 star rating\n",
      "Rest_Noreviews:5\n",
      "None\n"
     ]
    }
   ],
   "source": [
    "#Save in a file\n",
    "filename = \"yelp.csv\"\n",
    "\n",
    "with open(filename, \"w\", encoding=\"utf-8\") as f:\n",
    "    header = \"Rest_Name, Rest_Ratings, Rest_Noreviews, Rest_Price\"\n",
    "    f.write(header)\n",
    "    for main in mains:\n",
    "        try:\n",
    "            busname = main.find(\"a\").text\n",
    "            print(\"Rest_Name:\" + busname)\n",
    "        except:\n",
    "            print(None)\n",
    "        try:\n",
    "            ratings = main.find(\"span\", {\"class\": \"lemon--span__373c0__3997G display--inline__373c0__3JqBP border-color--default__373c0__3-ifU\"}).div.get('aria-label')\n",
    "            print(\"Rest_Ratings:\" + ratings)\n",
    "        except:\n",
    "            print(None)\n",
    "        try:\n",
    "            noreviews = main.find(\"span\", {\"class\": \"lemon--span__373c0__3997G text__373c0__2Kxyz reviewCount__373c0__2r4xT text-color--black-extra-light__373c0__2OyzO text-align--left__373c0__2XGa-\"}).text\n",
    "            print(\"Rest_Noreviews:\" + noreviews)\n",
    "        except:\n",
    "            print(None)\n",
    "        try:\n",
    "            price = main.find(\"span\", {\"class\": \"lemon--span__373c0__3997G text__373c0__2Kxyz priceRange__373c0__2DY87 text-color--black-extra-light__373c0__2OyzO text-align--left__373c0__2XGa- text-bullet--after__373c0__3fS1Z\"}).text\n",
    "            print(\"Rest_Price:\" + price)\n",
    "        except:\n",
    "            print(None) \n",
    "        f.write(\"\\n\" + busname + \",\" + ratings + \",\" + noreviews + \",\" + price)\n",
    "    \n",
    "f.close()"
   ]
  },
  {
   "cell_type": "code",
   "execution_count": 40,
   "metadata": {},
   "outputs": [],
   "source": [
    "secondarys = page_soup.find_all(\"div\", {\"class\": \"lemon--div__373c0__1mboc container__373c0__19wDx padding-l2__373c0__1Dr82 border-color--default__373c0__3-ifU text-align--right__373c0__1XDu3\"})\n",
    "sec = secondarys[0]"
   ]
  },
  {
   "cell_type": "code",
   "execution_count": 63,
   "metadata": {},
   "outputs": [],
   "source": [
    "#Empty list for secondary list items\n",
    "\n",
    "add = []\n",
    "tel = []\n",
    "nbh = []"
   ]
  },
  {
   "cell_type": "code",
   "execution_count": 64,
   "metadata": {},
   "outputs": [],
   "source": [
    "#Get Secondary attributes (add, tel)\n",
    "\n",
    "for sec in secondarys:\n",
    "    try:       \n",
    "        add.append(sec.address.find(\"span\", {\"class\": \"lemon--span__373c0__3997G raw__373c0__3rcx7\"}).text)\n",
    "    except:\n",
    "        add.append(\"None\")\n",
    "    try:\n",
    "        tel.append(sec.div.div.text)\n",
    "    except: \n",
    "        tel.append(\"None\")\n",
    "    try:\n",
    "        nbh.append(sec.find('div', {'class':'lemon--div__373c0__1mboc margin-b1__373c0__1khoT border-color--default__373c0__3-ifU'}).text)\n",
    "    except:\n",
    "        nbh.append('None')"
   ]
  },
  {
   "cell_type": "code",
   "execution_count": 66,
   "metadata": {},
   "outputs": [
    {
     "data": {
      "text/plain": [
       "['Unionville',\n",
       " 'Entertainment District',\n",
       " 'Willowdale',\n",
       " 'Downtown Core',\n",
       " '',\n",
       " '',\n",
       " 'St. Lawrence',\n",
       " 'Downtown Core',\n",
       " 'Bayview Village',\n",
       " 'Entertainment District',\n",
       " '',\n",
       " 'Kensington Market',\n",
       " 'Upper Beach',\n",
       " 'Chinatown',\n",
       " 'Church-Wellesley Village',\n",
       " 'Harbourfront',\n",
       " 'Downtown Core',\n",
       " 'Entertainment District',\n",
       " '',\n",
       " 'Downtown Core',\n",
       " 'Downtown Core',\n",
       " 'Leslieville',\n",
       " 'Yorkville',\n",
       " '',\n",
       " '',\n",
       " 'Downtown Core',\n",
       " 'West Queen West',\n",
       " 'Downtown Core',\n",
       " 'Liberty Village',\n",
       " 'The Junction',\n",
       " 'Bickford Park']"
      ]
     },
     "execution_count": 66,
     "metadata": {},
     "output_type": "execute_result"
    }
   ],
   "source": [
    "nbh"
   ]
  },
  {
   "cell_type": "code",
   "execution_count": 67,
   "metadata": {},
   "outputs": [
    {
     "data": {
      "text/plain": [
       "['+1-905-479-5888',\n",
       " '(416) 901-4724',\n",
       " '4907 Yonge St',\n",
       " '(647) 748-1444',\n",
       " '(647) 951-3331',\n",
       " '(416) 504-9669',\n",
       " '(647) 349-7297',\n",
       " '(416) 977-0999',\n",
       " '(647) 343-8555',\n",
       " '(647) 660-0909',\n",
       " '(647) 343-9294',\n",
       " '(416) 393-4636',\n",
       " '(416) 686-1880',\n",
       " '(647) 352-5678',\n",
       " '(647) 748-4225',\n",
       " '(416) 595-5444',\n",
       " '(416) 901-8183',\n",
       " '(647) 352-5773',\n",
       " '(416) 792-8105',\n",
       " '(416) 591-7756',\n",
       " '(647) 748-4225',\n",
       " '(647) 347-1168',\n",
       " '(437) 374-0250',\n",
       " '(416) 766-7001',\n",
       " '(647) 559-2080',\n",
       " '(416) 901-7339',\n",
       " '(416) 901-5472',\n",
       " '(647) 872-1336',\n",
       " '(416) 588-5695',\n",
       " '(647) 343-6562',\n",
       " '(416) 551-1550']"
      ]
     },
     "execution_count": 67,
     "metadata": {},
     "output_type": "execute_result"
    }
   ],
   "source": [
    "tel"
   ]
  },
  {
   "cell_type": "code",
   "execution_count": 68,
   "metadata": {},
   "outputs": [
    {
     "data": {
      "text/plain": [
       "['3987 Highway 7',\n",
       " '18 Duncan Street',\n",
       " '4907 Yonge St',\n",
       " '1 Richmond Street W',\n",
       " '420A Wellington Street W',\n",
       " '101 Portland Street',\n",
       " '9 Church Street',\n",
       " '398 Church Street',\n",
       " '2901 Bayview Avenue',\n",
       " '11 Duncan Street',\n",
       " '31 Howard Street',\n",
       " '69 Kensington Avenue',\n",
       " '452 Kingston Road',\n",
       " '280 Spadina Ave',\n",
       " '81 Bloor Street E',\n",
       " '390 Queens Quay W',\n",
       " '575 Yonge Street',\n",
       " '11 Charlotte Street',\n",
       " '104 Portland Street',\n",
       " '66 Gerrard Street E',\n",
       " '225 Church Street',\n",
       " '1168 Queen Street E',\n",
       " '55 Bloor Street W',\n",
       " '267 Scarlett Road',\n",
       " '176 Wicksteed Avenue',\n",
       " '43 Elm Street',\n",
       " '1087 Queen Street W',\n",
       " '66 Edward Street',\n",
       " '85 Hanna Avenue',\n",
       " '2853 Dundas Street W',\n",
       " '50C Clinton Street']"
      ]
     },
     "execution_count": 68,
     "metadata": {},
     "output_type": "execute_result"
    }
   ],
   "source": [
    "add"
   ]
  },
  {
   "cell_type": "code",
   "execution_count": null,
   "metadata": {},
   "outputs": [],
   "source": []
  }
 ],
 "metadata": {
  "kernelspec": {
   "display_name": "Python 3",
   "language": "python",
   "name": "python3"
  },
  "language_info": {
   "codemirror_mode": {
    "name": "ipython",
    "version": 3
   },
   "file_extension": ".py",
   "mimetype": "text/x-python",
   "name": "python",
   "nbconvert_exporter": "python",
   "pygments_lexer": "ipython3",
   "version": "3.7.4"
  }
 },
 "nbformat": 4,
 "nbformat_minor": 4
}
